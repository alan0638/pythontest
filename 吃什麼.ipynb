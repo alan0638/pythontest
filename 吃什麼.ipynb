{
 "cells": [
  {
   "cell_type": "code",
   "execution_count": 1,
   "metadata": {
    "collapsed": false
   },
   "outputs": [
    {
     "name": "stdout",
     "output_type": "stream",
     "text": [
      "幾天呢？7\n",
      "鐵板燒\n",
      "燒臘\n",
      "吃土\n",
      "四海遊龍\n",
      "自助餐\n",
      "吃自己\n",
      "蔥抓餅\n"
     ]
    }
   ],
   "source": [
    "import random\n",
    "x=int(input(\"幾天呢？\"))\n",
    "while (x!=0):\n",
    "    x-=1\n",
    "    a=random.randint(1,10)\n",
    "    test = {1:\"自助餐\", 2:\"丼太郎\",3:\"燒臘\",4:\"四海遊龍\",5:\"吃土\",6:\"吃全家\",7:\"鐵板燒\",8:\"吃自己\",9:\"麻辣燙\",10:\"蔥抓餅\"}\n",
    "    print(test[a])"
   ]
  },
  {
   "cell_type": "markdown",
   "metadata": {
    "collapsed": true
   },
   "source": [
    "##### "
   ]
  }
 ],
 "metadata": {
  "kernelspec": {
   "display_name": "Python 3",
   "language": "python",
   "name": "python3"
  },
  "language_info": {
   "codemirror_mode": {
    "name": "ipython",
    "version": 3
   },
   "file_extension": ".py",
   "mimetype": "text/x-python",
   "name": "python",
   "nbconvert_exporter": "python",
   "pygments_lexer": "ipython3",
   "version": "3.4.3"
  }
 },
 "nbformat": 4,
 "nbformat_minor": 0
}
